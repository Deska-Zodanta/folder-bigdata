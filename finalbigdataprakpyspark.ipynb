{
  "nbformat": 4,
  "nbformat_minor": 0,
  "metadata": {
    "colab": {
      "provenance": []
    },
    "kernelspec": {
      "name": "python3",
      "display_name": "Python 3"
    },
    "language_info": {
      "name": "python"
    }
  },
  "cells": [
    {
      "cell_type": "code",
      "source": [
        "!pip install pyspark matplotlib seaborn"
      ],
      "metadata": {
        "colab": {
          "base_uri": "https://localhost:8080/"
        },
        "id": "SWaEv8FpatK_",
        "outputId": "9f79e1b6-6316-4d29-a866-7697f6ebeb33"
      },
      "execution_count": null,
      "outputs": [
        {
          "output_type": "stream",
          "name": "stdout",
          "text": [
            "Requirement already satisfied: pyspark in /usr/local/lib/python3.10/dist-packages (3.5.3)\n",
            "Requirement already satisfied: matplotlib in /usr/local/lib/python3.10/dist-packages (3.8.0)\n",
            "Requirement already satisfied: seaborn in /usr/local/lib/python3.10/dist-packages (0.13.2)\n",
            "Requirement already satisfied: py4j==0.10.9.7 in /usr/local/lib/python3.10/dist-packages (from pyspark) (0.10.9.7)\n",
            "Requirement already satisfied: contourpy>=1.0.1 in /usr/local/lib/python3.10/dist-packages (from matplotlib) (1.3.1)\n",
            "Requirement already satisfied: cycler>=0.10 in /usr/local/lib/python3.10/dist-packages (from matplotlib) (0.12.1)\n",
            "Requirement already satisfied: fonttools>=4.22.0 in /usr/local/lib/python3.10/dist-packages (from matplotlib) (4.55.3)\n",
            "Requirement already satisfied: kiwisolver>=1.0.1 in /usr/local/lib/python3.10/dist-packages (from matplotlib) (1.4.7)\n",
            "Requirement already satisfied: numpy<2,>=1.21 in /usr/local/lib/python3.10/dist-packages (from matplotlib) (1.26.4)\n",
            "Requirement already satisfied: packaging>=20.0 in /usr/local/lib/python3.10/dist-packages (from matplotlib) (24.2)\n",
            "Requirement already satisfied: pillow>=6.2.0 in /usr/local/lib/python3.10/dist-packages (from matplotlib) (11.0.0)\n",
            "Requirement already satisfied: pyparsing>=2.3.1 in /usr/local/lib/python3.10/dist-packages (from matplotlib) (3.2.0)\n",
            "Requirement already satisfied: python-dateutil>=2.7 in /usr/local/lib/python3.10/dist-packages (from matplotlib) (2.8.2)\n",
            "Requirement already satisfied: pandas>=1.2 in /usr/local/lib/python3.10/dist-packages (from seaborn) (2.2.2)\n",
            "Requirement already satisfied: pytz>=2020.1 in /usr/local/lib/python3.10/dist-packages (from pandas>=1.2->seaborn) (2024.2)\n",
            "Requirement already satisfied: tzdata>=2022.7 in /usr/local/lib/python3.10/dist-packages (from pandas>=1.2->seaborn) (2024.2)\n",
            "Requirement already satisfied: six>=1.5 in /usr/local/lib/python3.10/dist-packages (from python-dateutil>=2.7->matplotlib) (1.17.0)\n"
          ]
        }
      ]
    },
    {
      "cell_type": "code",
      "source": [
        "!pip install pyspark pandas\n"
      ],
      "metadata": {
        "colab": {
          "base_uri": "https://localhost:8080/"
        },
        "id": "NgJobDrOfFcR",
        "outputId": "1028fe38-efa5-41b4-e568-85c7455783d1"
      },
      "execution_count": null,
      "outputs": [
        {
          "output_type": "stream",
          "name": "stdout",
          "text": [
            "Requirement already satisfied: pyspark in /usr/local/lib/python3.10/dist-packages (3.5.3)\n",
            "Requirement already satisfied: pandas in /usr/local/lib/python3.10/dist-packages (2.2.2)\n",
            "Requirement already satisfied: py4j==0.10.9.7 in /usr/local/lib/python3.10/dist-packages (from pyspark) (0.10.9.7)\n",
            "Requirement already satisfied: numpy>=1.22.4 in /usr/local/lib/python3.10/dist-packages (from pandas) (1.26.4)\n",
            "Requirement already satisfied: python-dateutil>=2.8.2 in /usr/local/lib/python3.10/dist-packages (from pandas) (2.8.2)\n",
            "Requirement already satisfied: pytz>=2020.1 in /usr/local/lib/python3.10/dist-packages (from pandas) (2024.2)\n",
            "Requirement already satisfied: tzdata>=2022.7 in /usr/local/lib/python3.10/dist-packages (from pandas) (2024.2)\n",
            "Requirement already satisfied: six>=1.5 in /usr/local/lib/python3.10/dist-packages (from python-dateutil>=2.8.2->pandas) (1.17.0)\n"
          ]
        }
      ]
    },
    {
      "cell_type": "code",
      "execution_count": null,
      "metadata": {
        "colab": {
          "base_uri": "https://localhost:8080/",
          "height": 1000
        },
        "id": "NicHoLPmzObG",
        "outputId": "31e12de6-705e-4c18-8a08-95137e7aa722"
      },
      "outputs": [
        {
          "output_type": "stream",
          "name": "stdout",
          "text": [
            "<class 'pandas.core.frame.DataFrame'>\n",
            "RangeIndex: 292364 entries, 0 to 292363\n",
            "Data columns (total 17 columns):\n",
            " #   Column                   Non-Null Count   Dtype \n",
            "---  ------                   --------------   ----- \n",
            " 0   Timestamp                292364 non-null  object\n",
            " 1   Gender                   292364 non-null  object\n",
            " 2   Country                  292364 non-null  object\n",
            " 3   Occupation               292364 non-null  object\n",
            " 4   self_employed            287162 non-null  object\n",
            " 5   family_history           292364 non-null  object\n",
            " 6   treatment                292364 non-null  object\n",
            " 7   Days_Indoors             292364 non-null  object\n",
            " 8   Growing_Stress           292364 non-null  object\n",
            " 9   Changes_Habits           292364 non-null  object\n",
            " 10  Mental_Health_History    292364 non-null  object\n",
            " 11  Mood_Swings              292364 non-null  object\n",
            " 12  Coping_Struggles         292364 non-null  object\n",
            " 13  Work_Interest            292364 non-null  object\n",
            " 14  Social_Weakness          292364 non-null  object\n",
            " 15  mental_health_interview  292364 non-null  object\n",
            " 16  care_options             292364 non-null  object\n",
            "dtypes: object(17)\n",
            "memory usage: 37.9+ MB\n"
          ]
        },
        {
          "output_type": "execute_result",
          "data": {
            "text/plain": [
              "Timestamp                     0\n",
              "Gender                        0\n",
              "Country                       0\n",
              "Occupation                    0\n",
              "self_employed              5202\n",
              "family_history                0\n",
              "treatment                     0\n",
              "Days_Indoors                  0\n",
              "Growing_Stress                0\n",
              "Changes_Habits                0\n",
              "Mental_Health_History         0\n",
              "Mood_Swings                   0\n",
              "Coping_Struggles              0\n",
              "Work_Interest                 0\n",
              "Social_Weakness               0\n",
              "mental_health_interview       0\n",
              "care_options                  0\n",
              "dtype: int64"
            ],
            "text/html": [
              "<div>\n",
              "<style scoped>\n",
              "    .dataframe tbody tr th:only-of-type {\n",
              "        vertical-align: middle;\n",
              "    }\n",
              "\n",
              "    .dataframe tbody tr th {\n",
              "        vertical-align: top;\n",
              "    }\n",
              "\n",
              "    .dataframe thead th {\n",
              "        text-align: right;\n",
              "    }\n",
              "</style>\n",
              "<table border=\"1\" class=\"dataframe\">\n",
              "  <thead>\n",
              "    <tr style=\"text-align: right;\">\n",
              "      <th></th>\n",
              "      <th>0</th>\n",
              "    </tr>\n",
              "  </thead>\n",
              "  <tbody>\n",
              "    <tr>\n",
              "      <th>Timestamp</th>\n",
              "      <td>0</td>\n",
              "    </tr>\n",
              "    <tr>\n",
              "      <th>Gender</th>\n",
              "      <td>0</td>\n",
              "    </tr>\n",
              "    <tr>\n",
              "      <th>Country</th>\n",
              "      <td>0</td>\n",
              "    </tr>\n",
              "    <tr>\n",
              "      <th>Occupation</th>\n",
              "      <td>0</td>\n",
              "    </tr>\n",
              "    <tr>\n",
              "      <th>self_employed</th>\n",
              "      <td>5202</td>\n",
              "    </tr>\n",
              "    <tr>\n",
              "      <th>family_history</th>\n",
              "      <td>0</td>\n",
              "    </tr>\n",
              "    <tr>\n",
              "      <th>treatment</th>\n",
              "      <td>0</td>\n",
              "    </tr>\n",
              "    <tr>\n",
              "      <th>Days_Indoors</th>\n",
              "      <td>0</td>\n",
              "    </tr>\n",
              "    <tr>\n",
              "      <th>Growing_Stress</th>\n",
              "      <td>0</td>\n",
              "    </tr>\n",
              "    <tr>\n",
              "      <th>Changes_Habits</th>\n",
              "      <td>0</td>\n",
              "    </tr>\n",
              "    <tr>\n",
              "      <th>Mental_Health_History</th>\n",
              "      <td>0</td>\n",
              "    </tr>\n",
              "    <tr>\n",
              "      <th>Mood_Swings</th>\n",
              "      <td>0</td>\n",
              "    </tr>\n",
              "    <tr>\n",
              "      <th>Coping_Struggles</th>\n",
              "      <td>0</td>\n",
              "    </tr>\n",
              "    <tr>\n",
              "      <th>Work_Interest</th>\n",
              "      <td>0</td>\n",
              "    </tr>\n",
              "    <tr>\n",
              "      <th>Social_Weakness</th>\n",
              "      <td>0</td>\n",
              "    </tr>\n",
              "    <tr>\n",
              "      <th>mental_health_interview</th>\n",
              "      <td>0</td>\n",
              "    </tr>\n",
              "    <tr>\n",
              "      <th>care_options</th>\n",
              "      <td>0</td>\n",
              "    </tr>\n",
              "  </tbody>\n",
              "</table>\n",
              "</div><br><label><b>dtype:</b> int64</label>"
            ]
          },
          "metadata": {},
          "execution_count": 3
        }
      ],
      "source": [
        "import pandas as pd\n",
        "df = pd.read_csv('Mental Health Dataset.csv')\n",
        "df.info()\n",
        "df.isnull().sum()\n"
      ]
    },
    {
      "cell_type": "code",
      "source": [
        "# Mengisi nilai yang kosong pada kolom 'self_employed' dengan 'Unknown'\n",
        "df['self_employed'].fillna('Unknown', inplace=True)\n",
        "\n",
        "# Menampilkan informasi dataset setelah pengisian\n",
        "print(\"\\nInformasi dataset setelah pengisian nilai kosong pada kolom 'self_employed':\")\n",
        "df.info()\n",
        "\n",
        "# Mengecek ulang jumlah nilai yang hilang di setiap kolom\n",
        "print(\"\\nJumlah nilai yang hilang setelah pengisian:\")\n",
        "print(df.isnull().sum())"
      ],
      "metadata": {
        "colab": {
          "base_uri": "https://localhost:8080/"
        },
        "id": "CwvphgQJZ91j",
        "outputId": "e5228e55-e99f-4f5c-ba29-a02fb48b789b"
      },
      "execution_count": null,
      "outputs": [
        {
          "output_type": "stream",
          "name": "stderr",
          "text": [
            "<ipython-input-4-46618becf0cc>:2: FutureWarning: A value is trying to be set on a copy of a DataFrame or Series through chained assignment using an inplace method.\n",
            "The behavior will change in pandas 3.0. This inplace method will never work because the intermediate object on which we are setting values always behaves as a copy.\n",
            "\n",
            "For example, when doing 'df[col].method(value, inplace=True)', try using 'df.method({col: value}, inplace=True)' or df[col] = df[col].method(value) instead, to perform the operation inplace on the original object.\n",
            "\n",
            "\n",
            "  df['self_employed'].fillna('Unknown', inplace=True)\n"
          ]
        },
        {
          "output_type": "stream",
          "name": "stdout",
          "text": [
            "\n",
            "Informasi dataset setelah pengisian nilai kosong pada kolom 'self_employed':\n",
            "<class 'pandas.core.frame.DataFrame'>\n",
            "RangeIndex: 292364 entries, 0 to 292363\n",
            "Data columns (total 17 columns):\n",
            " #   Column                   Non-Null Count   Dtype \n",
            "---  ------                   --------------   ----- \n",
            " 0   Timestamp                292364 non-null  object\n",
            " 1   Gender                   292364 non-null  object\n",
            " 2   Country                  292364 non-null  object\n",
            " 3   Occupation               292364 non-null  object\n",
            " 4   self_employed            292364 non-null  object\n",
            " 5   family_history           292364 non-null  object\n",
            " 6   treatment                292364 non-null  object\n",
            " 7   Days_Indoors             292364 non-null  object\n",
            " 8   Growing_Stress           292364 non-null  object\n",
            " 9   Changes_Habits           292364 non-null  object\n",
            " 10  Mental_Health_History    292364 non-null  object\n",
            " 11  Mood_Swings              292364 non-null  object\n",
            " 12  Coping_Struggles         292364 non-null  object\n",
            " 13  Work_Interest            292364 non-null  object\n",
            " 14  Social_Weakness          292364 non-null  object\n",
            " 15  mental_health_interview  292364 non-null  object\n",
            " 16  care_options             292364 non-null  object\n",
            "dtypes: object(17)\n",
            "memory usage: 37.9+ MB\n",
            "\n",
            "Jumlah nilai yang hilang setelah pengisian:\n",
            "Timestamp                  0\n",
            "Gender                     0\n",
            "Country                    0\n",
            "Occupation                 0\n",
            "self_employed              0\n",
            "family_history             0\n",
            "treatment                  0\n",
            "Days_Indoors               0\n",
            "Growing_Stress             0\n",
            "Changes_Habits             0\n",
            "Mental_Health_History      0\n",
            "Mood_Swings                0\n",
            "Coping_Struggles           0\n",
            "Work_Interest              0\n",
            "Social_Weakness            0\n",
            "mental_health_interview    0\n",
            "care_options               0\n",
            "dtype: int64\n"
          ]
        }
      ]
    },
    {
      "cell_type": "code",
      "source": [
        "# Print amount of duplicates\n",
        "print('Amount of duplicates: {:,}'.format(df.duplicated().sum()))\n",
        "\n",
        "# Print percentage of duplicates\n",
        "print('Percentage of duplicates: {:.1%}'.format(df.duplicated().mean()))"
      ],
      "metadata": {
        "colab": {
          "base_uri": "https://localhost:8080/"
        },
        "id": "rb9qexZqjIah",
        "outputId": "84daa5c1-640d-4285-ddad-d04015f98044"
      },
      "execution_count": null,
      "outputs": [
        {
          "output_type": "stream",
          "name": "stdout",
          "text": [
            "Amount of duplicates: 2,313\n",
            "Percentage of duplicates: 0.8%\n"
          ]
        }
      ]
    },
    {
      "cell_type": "code",
      "source": [
        "df.drop_duplicates(inplace = True)\n",
        "\n",
        "print('Amount of duplicates: {:,}'.format(df.duplicated().sum()))"
      ],
      "metadata": {
        "colab": {
          "base_uri": "https://localhost:8080/"
        },
        "id": "fLyxoI6RFfV6",
        "outputId": "1438ae75-0748-4f8f-fe5e-85490069d279"
      },
      "execution_count": null,
      "outputs": [
        {
          "output_type": "stream",
          "name": "stdout",
          "text": [
            "Amount of duplicates: 0\n"
          ]
        }
      ]
    },
    {
      "cell_type": "code",
      "source": [
        "import pandas as pd\n",
        "\n",
        "\n",
        "# Klasifikasi jenis kelamin yang paling banyak terkena mental health\n",
        "if 'Gender' in df.columns:\n",
        "    gender_count = df['Gender'].value_counts()\n",
        "    most_common_gender = gender_count.idxmax()\n",
        "    print(\"\\nJenis kelamin yang paling banyak terkena mental health:\")\n",
        "    print(f\"{most_common_gender} dengan jumlah {gender_count[most_common_gender]} kasus\")\n",
        "else:\n",
        "    print(\"\\nKolom 'gender' tidak ditemukan dalam dataset.\")\n",
        "\n",
        "# Klasifikasi negara yang paling banyak terkena mental health\n",
        "if 'Country' in df.columns:\n",
        "    country_count = df['Country'].value_counts()\n",
        "    most_common_country = country_count.idxmax()\n",
        "    print(\"\\nNegara yang paling banyak terkena mental health:\")\n",
        "    print(f\"{most_common_country} dengan jumlah {country_count[most_common_country]} kasus\")\n",
        "else:\n",
        "    print(\"\\nKolom 'country' tidak ditemukan dalam dataset.\")\n",
        "\n",
        "print(\"\\nJumlah nilai yang hilang setelah pengisian:\")\n",
        "print(df.isnull().sum())\n"
      ],
      "metadata": {
        "colab": {
          "base_uri": "https://localhost:8080/"
        },
        "id": "9U6Q5Po8fEIl",
        "outputId": "acc0c95d-7552-4f30-d9b5-3af3b6966f33"
      },
      "execution_count": null,
      "outputs": [
        {
          "output_type": "stream",
          "name": "stdout",
          "text": [
            "\n",
            "Jenis kelamin yang paling banyak terkena mental health:\n",
            "Male dengan jumlah 237900 kasus\n",
            "\n",
            "Negara yang paling banyak terkena mental health:\n",
            "United States dengan jumlah 169112 kasus\n",
            "\n",
            "Jumlah nilai yang hilang setelah pengisian:\n",
            "Timestamp                  0\n",
            "Gender                     0\n",
            "Country                    0\n",
            "Occupation                 0\n",
            "self_employed              0\n",
            "family_history             0\n",
            "treatment                  0\n",
            "Days_Indoors               0\n",
            "Growing_Stress             0\n",
            "Changes_Habits             0\n",
            "Mental_Health_History      0\n",
            "Mood_Swings                0\n",
            "Coping_Struggles           0\n",
            "Work_Interest              0\n",
            "Social_Weakness            0\n",
            "mental_health_interview    0\n",
            "care_options               0\n",
            "dtype: int64\n"
          ]
        }
      ]
    },
    {
      "cell_type": "code",
      "source": [
        "import pandas as pd\n",
        "import matplotlib.pyplot as plt\n",
        "import seaborn as sns\n",
        "\n",
        "# Klasifikasi jenis kelamin\n",
        "gender_count = df['Gender'].value_counts()\n",
        "\n",
        "# Visualisasi jenis kelamin\n",
        "plt.figure(figsize=(10, 6))\n",
        "sns.barplot(x=gender_count.index, y=gender_count.values, palette='viridis')\n",
        "plt.title('Distribusi Kasus Mental Health Berdasarkan Gender', fontsize=16)\n",
        "plt.xlabel('Gender', fontsize=12)\n",
        "plt.ylabel('Jumlah Kasus', fontsize=12)\n",
        "plt.xticks(rotation=45)\n",
        "plt.show()\n",
        "\n",
        "# Klasifikasi negara\n",
        "country_count = df['Country'].value_counts().head(5)  # Hanya mengambil 5 negara dengan kasus terbanyak\n",
        "\n",
        "# Visualisasi negara\n",
        "plt.figure(figsize=(12, 6))\n",
        "sns.barplot(x=country_count.index, y=country_count.values, palette='coolwarm')\n",
        "plt.title('5 Negara dengan Kasus Mental Health Terbanyak', fontsize=16)\n",
        "plt.xlabel('Negara', fontsize=12)\n",
        "plt.ylabel('Jumlah Kasus', fontsize=12)\n",
        "plt.xticks(rotation=45)\n",
        "plt.show()\n",
        "print(\"\\nJumlah nilai yang hilang setelah pengisian:\")\n",
        "print(df.isnull().sum())\n"
      ],
      "metadata": {
        "colab": {
          "base_uri": "https://localhost:8080/",
          "height": 1000
        },
        "id": "2c2bQ9Xgaqmt",
        "outputId": "66589a07-3f3a-4298-f681-b8a8e496a229"
      },
      "execution_count": null,
      "outputs": [
        {
          "output_type": "stream",
          "name": "stderr",
          "text": [
            "<ipython-input-8-6a312838dfe7>:10: FutureWarning: \n",
            "\n",
            "Passing `palette` without assigning `hue` is deprecated and will be removed in v0.14.0. Assign the `x` variable to `hue` and set `legend=False` for the same effect.\n",
            "\n",
            "  sns.barplot(x=gender_count.index, y=gender_count.values, palette='viridis')\n"
          ]
        },
        {
          "output_type": "display_data",
          "data": {
            "text/plain": [
              "<Figure size 1000x600 with 1 Axes>"
            ],
            "image/png": "[encoded data removed]"
          },
          "metadata": {}
        },
        {
          "output_type": "stream",
          "name": "stderr",
          "text": [
            "<ipython-input-8-6a312838dfe7>:22: FutureWarning: \n",
            "\n",
            "Passing `palette` without assigning `hue` is deprecated and will be removed in v0.14.0. Assign the `x` variable to `hue` and set `legend=False` for the same effect.\n",
            "\n",
            "  sns.barplot(x=country_count.index, y=country_count.values, palette='coolwarm')\n"
          ]
        },
        {
          "output_type": "display_data",
          "data": {
            "text/plain": [
              "<Figure size 1200x600 with 1 Axes>"
            ],
            "image/png": "[encoded data removed]"
          },
          "metadata": {}
        },
        {
          "output_type": "stream",
          "name": "stdout",
          "text": [
            "\n",
            "Jumlah nilai yang hilang setelah pengisian:\n",
            "Timestamp                  0\n",
            "Gender                     0\n",
            "Country                    0\n",
            "Occupation                 0\n",
            "self_employed              0\n",
            "family_history             0\n",
            "treatment                  0\n",
            "Days_Indoors               0\n",
            "Growing_Stress             0\n",
            "Changes_Habits             0\n",
            "Mental_Health_History      0\n",
            "Mood_Swings                0\n",
            "Coping_Struggles           0\n",
            "Work_Interest              0\n",
            "Social_Weakness            0\n",
            "mental_health_interview    0\n",
            "care_options               0\n",
            "dtype: int64\n"
          ]
        }
      ]
    },
    {
      "cell_type": "code",
      "source": [
        "from pyspark.sql import SparkSession\n",
        "from pyspark.ml.feature import VectorAssembler, StringIndexer\n",
        "from pyspark.ml.classification import RandomForestClassifier\n",
        "from pyspark.ml.evaluation import MulticlassClassificationEvaluator\n",
        "from pyspark.ml import Pipeline\n",
        "\n",
        "# Membuat Spark Session\n",
        "spark = SparkSession.builder.appName(\"Uus Accidents Model with Random Forest\").getOrCreate()\n",
        "\n",
        "# Konversi DataFrame Pandas ke Spark DataFrame\n",
        "data_spark = spark.createDataFrame(df)\n",
        "\n",
        "# Menggunakan StringIndexer untuk mengonversi kolom kategorikal menjadi numerik\n",
        "indexers = [\n",
        "    StringIndexer(inputCol='Gender', outputCol='Gender_Index'),\n",
        "    StringIndexer(inputCol='Country', outputCol='Country_Index'),\n",
        "    StringIndexer(inputCol='Occupation', outputCol='Occupation_Index'),\n",
        "    StringIndexer(inputCol='self_employed', outputCol='self_employed_Index'),\n",
        "    StringIndexer(inputCol='family_history', outputCol='family_history_Index'),\n",
        "    StringIndexer(inputCol='treatment', outputCol='treatment_Index'),\n",
        "    StringIndexer(inputCol='Days_Indoors', outputCol='Days_Indoors_Index'),\n",
        "    StringIndexer(inputCol='Growing_Stress', outputCol='Growing_Stress_Index'),\n",
        "    StringIndexer(inputCol='Changes_Habits', outputCol='Changes_Habits_Index'),\n",
        "    StringIndexer(inputCol='Mental_Health_History', outputCol='Mental_Health_History_Index'),\n",
        "    StringIndexer(inputCol='Coping_Struggles', outputCol='Coping_Struggles_Index'),\n",
        "    StringIndexer(inputCol='Work_Interest', outputCol='Work_Interest_Index'),\n",
        "    StringIndexer(inputCol='Social_Weakness', outputCol='Social_Weakness_Index'),\n",
        "    StringIndexer(inputCol='mental_health_interview', outputCol='mental_health_interview_Index'),\n",
        "    StringIndexer(inputCol='care_options', outputCol='care_options_Index'),\n",
        "    StringIndexer(inputCol='Mood_Swings', outputCol='Mood_Swings_Index'),\n",
        "]\n",
        "\n",
        "# Menjalankan StringIndexer untuk setiap kolom\n",
        "indexer_pipeline = Pipeline(stages=indexers)\n",
        "data_spark = indexer_pipeline.fit(data_spark).transform(data_spark)\n",
        "\n",
        "# Menentukan fitur yang akan digunakan untuk model\n",
        "feature_columns = ['Gender_Index', 'Country_Index', 'Occupation_Index', 'self_employed_Index',\n",
        "                   'family_history_Index', 'treatment_Index', 'Days_Indoors_Index', 'Growing_Stress_Index',\n",
        "                   'Changes_Habits_Index', 'Mental_Health_History_Index', 'Coping_Struggles_Index',\n",
        "                   'Work_Interest_Index', 'Social_Weakness_Index', 'mental_health_interview_Index',\n",
        "                   'care_options_Index']\n",
        "\n",
        "# Menyusun fitur menjadi satu kolom vektor\n",
        "assembler = VectorAssembler(inputCols=feature_columns, outputCol=\"features\")\n",
        "\n",
        "# Transformasi data untuk menambahkan kolom 'features'\n",
        "data_spark = assembler.transform(data_spark)\n",
        "\n",
        "# Memisahkan data latih dan uji\n",
        "train_data, test_data = data_spark.randomSplit([0.8, 0.2], seed=42)\n",
        "\n",
        "# Membuat model Random Forest\n",
        "rf = RandomForestClassifier(featuresCol=\"features\", labelCol=\"Mood_Swings_Index\", numTrees=100, maxDepth=10,maxBins=50)  # Menggunakan Random Forest\n",
        "\n",
        "# Melatih model dengan data latih\n",
        "model = rf.fit(train_data)\n",
        "\n",
        "# Prediksi pada data uji\n",
        "predictions = model.transform(test_data)\n",
        "\n",
        "# Evaluasi model\n",
        "evaluator = MulticlassClassificationEvaluator(labelCol=\"Mood_Swings_Index\", predictionCol=\"prediction\", metricName=\"accuracy\")\n",
        "accuracy = evaluator.evaluate(predictions)\n",
        "\n",
        "# Menampilkan akurasi\n",
        "print(f\"Akurasi keterkaitan feature dengan target mencapai: {accuracy:.4f}\")\n"
      ],
      "metadata": {
        "colab": {
          "base_uri": "https://localhost:8080/"
        },
        "id": "rywNvMTCzwLX",
        "outputId": "9b207061-c692-4e6c-ba72-92ce4bfc39bf"
      },
      "execution_count": null,
      "outputs": [
        {
          "output_type": "stream",
          "name": "stdout",
          "text": [
            "Akurasi keterkaitan feature dengan target mencapai: 0.9784\n"
          ]
        }
      ]
    }
  ]
}