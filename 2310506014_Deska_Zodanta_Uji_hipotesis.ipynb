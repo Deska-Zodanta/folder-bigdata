{
  "nbformat": 4,
  "nbformat_minor": 0,
  "metadata": {
    "colab": {
      "provenance": []
    },
    "kernelspec": {
      "name": "python3",
      "display_name": "Python 3"
    },
    "language_info": {
      "name": "python"
    }
  },
  "cells": [
    {
      "cell_type": "markdown",
      "source": [
        "**1. Dalam suatu laporan oleh peneliti, dinyatakan bahwa tikus yang semula\n",
        "mempunyai jangka hidup rata-rata 32 bulan dapat diperpanjang menjadi 40\n",
        "bulan bila 40% kalori dalam makanannya diganti dengan protein dan vitamin.\n",
        "Apakah ada alasan untuk mempercayai bahwa µ < 40 bila 64 ekor tikus\n",
        "dicobakan dalam penelitian ini agar mencapai jangka hidup rata-rata 38 bulan\n",
        "dengan simpang baku 5,8 bulan? Gunakan taraf nyata 0,025**"
      ],
      "metadata": {
        "id": "qg8oaPSG5vOh"
      }
    },
    {
      "cell_type": "code",
      "execution_count": 14,
      "metadata": {
        "colab": {
          "base_uri": "https://localhost:8080/"
        },
        "id": "84eDlvJry6SC",
        "outputId": "ab662c04-0efc-48bd-d8db-48b19646e1e6"
      },
      "outputs": [
        {
          "output_type": "stream",
          "name": "stdout",
          "text": [
            "Value t-statistik: -2.7586206896551726\n",
            "Value t-kritis: -1.9983405425207414\n",
            "Value: 0.003794308025801665\n"
          ]
        }
      ],
      "source": [
        "from scipy.stats import t\n",
        "\n",
        "n = 64\n",
        "rata_sampel = 38\n",
        "simpangan_baku = 5.8\n",
        "rata_populasi = 40\n",
        "alpha = 0.025\n",
        "\n",
        "stat = (rata_sampel - rata_populasi) / (simpangan_baku / (n ** 0.5))\n",
        "critical = t.ppf(alpha, df = n - 1)\n",
        "value = t.cdf(stat, df = n - 1)\n",
        "\n",
        "print(\"Value t-statistik:\", stat)\n",
        "print(\"Value t-kritis:\", critical)\n",
        "print(\"Value:\", value)"
      ]
    },
    {
      "cell_type": "markdown",
      "source": [
        "hipotesis tersebut ditolak, karena,\n",
        "- -2.76 tidak berada di rentang -1.99 dan 1.99\n",
        "- p_value lebih kecil dari alpha"
      ],
      "metadata": {
        "id": "tPLQKHHIARJT"
      }
    },
    {
      "cell_type": "markdown",
      "source": [
        "**2.  Ujilah hipotesis bahwa isi kaleng rata-rata suatu jenis minyak pelumas adalah 10 liter. Apabila isi suatu contoh acak 10 kaleng adalah 10.2, 9.7, 10.1, 10.3, 10.1, 9.8, 9.9, 10.4, 10.3, dan 9.8 liter. Gunakan taraf nyata 0.01 dan asumsikan bahwa isi terrsebut menyebar normal.**"
      ],
      "metadata": {
        "id": "Oe4DLyML59-p"
      }
    },
    {
      "cell_type": "code",
      "source": [
        "from scipy.stats import t\n",
        "import numpy as np\n",
        "\n",
        "n = 10\n",
        "rpopulasi = 10\n",
        "alpha = 0.01\n",
        "sample = [10.2, 9.7, 10.1, 10.3, 10.1, 9.8, 9.9, 10.4, 10.3, 9.8]\n",
        "rsampel = np.mean(sample)\n",
        "simpangan_baku = np.std(sample, ddof = 1)\n",
        "\n",
        "stat = (rsampel - rpopulasi) / (simpangan_baku / (n ** 0.5))\n",
        "critical = t.ppf(alpha, df = n - 1)\n",
        "value = t.cdf(stat, df = n - 1)\n",
        "\n",
        "print(\"Value t-statistik:\", stat)\n",
        "print(\"Value t-kritis:\", critical)\n",
        "print(\"Value:\", value)\n"
      ],
      "metadata": {
        "colab": {
          "base_uri": "https://localhost:8080/"
        },
        "id": "rxtypRtK6Fu-",
        "outputId": "0bf5f8ac-6930-454e-c6ae-6b2d49a08967"
      },
      "execution_count": 16,
      "outputs": [
        {
          "output_type": "stream",
          "name": "stdout",
          "text": [
            "Value t-statistik: 0.771743633141273\n",
            "Value t-kritis: -2.8214379250258084\n",
            "Value: 0.7699755088645168\n"
          ]
        }
      ]
    },
    {
      "cell_type": "markdown",
      "source": [
        "hipotesis tersebut diterima, karena,\n",
        "- 0.77 berada di rentang -2.82 dan 2.82\n",
        "- p_value lebih besar dari alpha"
      ],
      "metadata": {
        "id": "9Qkv6aTT_WO3"
      }
    },
    {
      "cell_type": "markdown",
      "source": [
        "**3. Menurut penelitian konsumsi sodium yang tinggi mungkin berhubungan\n",
        "dengan sakit bisul, kanker perut, dan sakit kepala. Manusia membutuhkan\n",
        "garam hanya 220 milligram per hari dan ini sudah dilampaui oleh kandungan\n",
        "satu porsi sereal siap makan.\n",
        "Apabila suatu contoh acak 20 porsi sereal mempunyai kandungan sodium\n",
        "rata-rata 244 milligram dengan simpangan baku 24,5 milligram apakah ini\n",
        "menunjukkan pada taraf nyata 0,05 bahwa kandungan sodium rata-rata satu\n",
        "porsi sereal lebih daripada 220 milligram?\n",
        "Asumsikan bahwa sebaran kandungan sodium adalah normal**"
      ],
      "metadata": {
        "id": "1-oPtklf9M52"
      }
    },
    {
      "cell_type": "code",
      "source": [
        "from scipy.stats import t\n",
        "\n",
        "n = 20\n",
        "rata2sampel = 244\n",
        "simpangan_baku = 24.5\n",
        "alpha = 0.05\n",
        "rata2populasi = 220\n",
        "\n",
        "tstat = (rata2sampel - rata2populasi) / (simpangan_baku / (n ** 0.5))\n",
        "tcritical = t.ppf(alpha, df = n - 1)\n",
        "tvalue = t.cdf(tstat, df = n - 1)\n",
        "\n",
        "print(\"Value t-statistik:\", tstat)\n",
        "print(\"Value t-kritis:\", tcritical)\n",
        "print(\"Value:\", tvalue)"
      ],
      "metadata": {
        "colab": {
          "base_uri": "https://localhost:8080/"
        },
        "id": "v83CzFU99TPP",
        "outputId": "d2b366a3-40a4-4e59-f688-76f4dfdfbc01"
      },
      "execution_count": 18,
      "outputs": [
        {
          "output_type": "stream",
          "name": "stdout",
          "text": [
            "Value t-statistik: 4.380867874285302\n",
            "Value t-kritis: -1.7291328115213678\n",
            "Value: 0.999839296938128\n"
          ]
        }
      ]
    },
    {
      "cell_type": "markdown",
      "source": [
        "hipotesis tersebut ditolak, karena,\n",
        "- 4.38 tidak berada di rentang -1.73 dan 1.73\n",
        "- p_value lebih besar dari alpha"
      ],
      "metadata": {
        "id": "Dhj2cd2XCjCE"
      }
    },
    {
      "cell_type": "markdown",
      "source": [
        "**4.  Sebuah perusahaan menyatakan bahwa kekuatan rentangan rata-rata tali A\n",
        "melebihi kekuatan rentangan tali B sebesar sekurang-kurangnya 12 kg. Untuk\n",
        "diuji pernyataan ini, 50 tali dari masing-masing jenis diuji dibawah kondisi\n",
        "yang sama.\n",
        "Hasil uji menunjukkan tali A mempunyai kekuatan rentangan rata-rata 86,7 kg\n",
        "dengan simpangan baku 6,28 kg, sedangkan tali B mempunyai kekuatan\n",
        "rentangan rata-rata 77,8 kg dengan simpangan baku 5,61 kg.\n",
        "Ujilah pernyataan perusahaan tersebut dengan menggunakan taraf nyata\n",
        "0,05**"
      ],
      "metadata": {
        "id": "nVHKFwR9DfO7"
      }
    },
    {
      "cell_type": "code",
      "source": [
        "import numpy as np\n",
        "from scipy.stats import t\n",
        "\n",
        "nA = 50\n",
        "nB = 50\n",
        "rataA = 86.7\n",
        "rataB = 77.8\n",
        "stdA = 6.28\n",
        "stdB = 5.61\n",
        "selisih = 12\n",
        "alpha = 0.05\n",
        "\n",
        "cstat = (rataA - rataB - selisih) / np.sqrt((stdA ** 2 / nA) + (stdB ** 2 / nB))\n",
        "ccritical = t.ppf(alpha, df = nA + nB - 2)\n",
        "pvalue = t.cdf(cstat, df = nA + nB - 2)\n",
        "\n",
        "print(\"Value z-statistik:\", cstat)\n",
        "print(\"Value z-kritis:\", ccritical)\n",
        "print(\"Value:\", pvalue)"
      ],
      "metadata": {
        "colab": {
          "base_uri": "https://localhost:8080/"
        },
        "id": "-zjqhLxpDubc",
        "outputId": "1ec69531-1d82-44f1-e7e1-3bb0d7f9b15a"
      },
      "execution_count": 20,
      "outputs": [
        {
          "output_type": "stream",
          "name": "stdout",
          "text": [
            "Value z-statistik: -2.603103416514782\n",
            "Value z-kritis: -1.6605512170440575\n",
            "Value: 0.005336424215676501\n"
          ]
        }
      ]
    },
    {
      "cell_type": "markdown",
      "source": [
        "hipotesis tersebut ditolak, karena,\n",
        "- -2.60 tidak berada di rentang -1.66 dan 1.66\n",
        "- p_value lebih kecil dari alpha"
      ],
      "metadata": {
        "id": "mUC2QA7tJOTm"
      }
    }
  ]
}