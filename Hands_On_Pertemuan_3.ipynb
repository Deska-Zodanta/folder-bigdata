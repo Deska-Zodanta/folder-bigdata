{
 "cells": [
  {
   "cell_type": "markdown",
   "id": "c1b3626a",
   "metadata": {},
   "source": [
    "# Hands-On Pertemuan 3: Implementasi MapReduce Sederhana"
   ]
  },
  {
   "cell_type": "markdown",
   "id": "8c4b8be5",
   "metadata": {},
   "source": [
    "## Tujuan:\n",
    "- Memahami konsep MapReduce dalam distribusi data besar.\n",
    "- Mengimplementasikan algoritma sederhana menggunakan MapReduce pada Hadoop.\n",
    "- Melakukan analisis hasil MapReduce pada dataset."
   ]
  },
  {
   "cell_type": "markdown",
   "id": "090da41e",
   "metadata": {},
   "source": [
    "### 1. Pengenalan MapReduce\n",
    "MapReduce adalah model pemrograman yang digunakan untuk pemrosesan data besar secara paralel di beberapa node dalam kluster Hadoop.\n",
    "- **Map**: Fase pertama di mana data dipecah menjadi unit-unit kecil (key-value pairs).\n",
    "- **Reduce**: Fase kedua di mana hasil dari fase Map dikombinasikan untuk menghasilkan output yang lebih kecil.\n",
    "\n",
    "- **Tugas 1**: Pelajari bagaimana MapReduce bekerja dengan dataset sederhana dan coba implementasikan konsep key-value pair."
   ]
  },
  {
   "cell_type": "markdown",
   "id": "7190ed74",
   "metadata": {},
   "source": [
    "### 2. Implementasi Sederhana: Word Count\n",
    "Algoritma Word Count adalah salah satu contoh sederhana dari MapReduce. Dalam tugas ini, kita akan menghitung jumlah kata dalam dataset.\n",
    "\n",
    "1. **Map Function**: Fungsi yang memecah teks menjadi kata-kata individual.\n",
    "   ```python\n",
    "   def map_function(text):\n",
    "       for word in text.split():\n",
    "           yield (word, 1)\n",
    "   ```\n",
    "2. **Reduce Function**: Fungsi yang menggabungkan hasil dari fase Map untuk menghitung frekuensi kata.\n",
    "   ```python\n",
    "   from collections import defaultdict\n",
    "\n",
    "   def reduce_function(pairs):\n",
    "       result = defaultdict(int)\n",
    "       for word, count in pairs:\n",
    "           result[word] += count\n",
    "       return result\n",
    "   ```\n",
    "- **Tugas 2**: Implementasikan fungsi `map_function` dan `reduce_function` pada dataset teks sederhana, lalu hitung jumlah kata."
   ]
  },
  {
   "cell_type": "code",
   "execution_count": 1,
   "id": "a2924495",
   "metadata": {},
   "outputs": [
    {
     "name": "stdout",
     "output_type": "stream",
     "text": [
      "A.: 1\n",
      "Menetapkan: 1\n",
      "tujuan: 3\n",
      ":: 5\n",
      "menetapkan: 2\n",
      "berarti: 1\n",
      "kita: 8\n",
      "harus: 1\n",
      "dulu: 1\n",
      "penggunaan: 2\n",
      "data: 10\n",
      "yang: 14\n",
      "ingin: 2\n",
      "proses: 1\n",
      "untuk: 1\n",
      "apa,: 1\n",
      "apakah: 1\n",
      "penjualan,: 1\n",
      "atau: 1\n",
      "analisis: 5\n",
      "di: 1\n",
      "masa: 1\n",
      "depan.: 1\n",
      "B.: 1\n",
      "Mengumpulkan: 1\n",
      "relevan: 3\n",
      "selanjutnya: 3\n",
      "adalah: 4\n",
      "mengumpulan: 1\n",
      "dengan: 3\n",
      "capai.: 1\n",
      "Dengan: 2\n",
      "akan: 1\n",
      "lebih: 1\n",
      "optimal: 1\n",
      "dan: 2\n",
      "peluang: 1\n",
      "menghasilkan: 1\n",
      "akurasi: 1\n",
      "tinggi.: 1\n",
      "C.: 1\n",
      "Menganalisis: 1\n",
      "setelah: 2\n",
      "mengumpulkan: 1\n",
      "relevan,: 1\n",
      "langkah: 2\n",
      "menganalisis: 1\n",
      "sudah: 3\n",
      "kumpulkan: 1\n",
      "sebelumnya.: 1\n",
      "Kita: 1\n",
      "dapat: 2\n",
      "menggunakan: 1\n",
      "alat: 1\n",
      "analitik: 1\n",
      "ada.: 1\n",
      "D.: 1\n",
      "Mengambil: 1\n",
      "tindakan: 1\n",
      "mengetahui: 1\n",
      "hasil: 3\n",
      "dari: 4\n",
      "kita,: 1\n",
      "mengambil: 2\n",
      "tindakan.: 1\n",
      "gambaran: 1\n",
      "ada: 1\n",
      "sebelumnya,: 1\n",
      "bisa: 1\n",
      "kepetusan: 1\n",
      "terbaik.: 1\n",
      "E.: 1\n",
      "Mengoptimalkan: 1\n",
      "meningkatkan: 1\n",
      "terakhir: 1\n",
      "mengoptimalkan: 2\n",
      "didapat,: 1\n",
      "big: 1\n",
      "terupdate.: 1\n"
     ]
    }
   ],
   "source": [
    "from collections import defaultdict\n",
    "\n",
    "\n",
    "def map_function(text):\n",
    "      for word in text.split():\n",
    "            yield (word,1)\n",
    "def reduce_function(pairs):\n",
    "       result = defaultdict(int)\n",
    "       for word, count in pairs:\n",
    "           result[word] += count\n",
    "       return result\n",
    "data = \"D:\\hadoop\\mg3.txt\"\n",
    "with open(data, 'r') as file:\n",
    "      text = file.read()\n",
    "\n",
    "mapped_pairs = map_function(text)\n",
    "\n",
    "reduce_result = reduce_function(mapped_pairs)\n",
    "\n",
    "for word, count in reduce_result.items():\n",
    "      print(f'{word}: {count}')"
   ]
  },
  {
   "cell_type": "markdown",
   "id": "5d79ab57",
   "metadata": {},
   "source": [
    "### 3. Menjalankan Word Count di Hadoop\n",
    "1. Siapkan file teks yang ingin dihitung jumlah katanya.\n",
    "   ```bash\n",
    "   hdfs dfs -put input.txt /user/student/input/\n",
    "   ```\n",
    "2. Jalankan perintah MapReduce pada file tersebut:\n",
    "   ```bash\n",
    "   hadoop jar $HADOOP_HOME/share/hadoop/mapreduce/hadoop-mapreduce-examples-*.jar wordcount /user/student/input/ /user/student/output/\n",
    "   ```\n",
    "3. Tampilkan hasilnya:\n",
    "   ```bash\n",
    "   hdfs dfs -cat /user/student/output/part-r-00000\n",
    "   ```\n",
    "- **Tugas 3**: Upload file teks ke HDFS, jalankan perintah MapReduce Word Count, dan tampilkan hasilnya."
   ]
  },
  {
   "cell_type": "markdown",
   "id": "24a3bcdf",
   "metadata": {},
   "source": [
    "### 4. Menganalisis Dataset Besar\n",
    "Untuk memperdalam pemahaman, kita akan menjalankan algoritma MapReduce pada dataset yang lebih besar.\n",
    "- Pilih dataset besar yang dapat diunduh dari [Kaggle](https://www.kaggle.com/) atau sumber lain.\n",
    "- Jalankan Word Count pada dataset besar tersebut dan analisis hasilnya.\n",
    "\n",
    "- **Tugas 4**: Cari dataset besar, jalankan MapReduce untuk menghitung kata, dan buat laporan analisis hasil."
   ]
  },
  {
   "cell_type": "markdown",
   "id": "85612e13",
   "metadata": {},
   "source": [
    "### 5. Tugas Tambahan: Custom MapReduce Algorithm\n",
    "- Buat algoritma MapReduce lainnya, seperti menghitung rata-rata nilai, atau menghitung frekuensi kemunculan elemen tertentu di dalam dataset."
   ]
  },
  {
   "cell_type": "code",
   "execution_count": 2,
   "id": "152d56b4",
   "metadata": {},
   "outputs": [
    {
     "name": "stdout",
     "output_type": "stream",
     "text": [
      "{'kucing,': [8], 'harimau,': [6], 'kambing,': [8], 'singa,': [5], 'jerapah,': [3], 'gajah,': [6], 'kambing,singa,': [1], 'buaya,': [2], 'burung,': [2], 'onta,': [2], 'kanguru,': [1], 'badak,': [2], 'onta': [1]}\n"
     ]
    }
   ],
   "source": [
    "def map_function(key, value):\n",
    "\n",
    "    elements = value.split()\n",
    "    for element in elements:\n",
    "        yield (element, 1)\n",
    "def reduce_function(key, values):\n",
    "    \n",
    "    yield sum(values)\n",
    "\n",
    "def code_jalan(input_data):\n",
    "    \n",
    "    mapped_data = []\n",
    "    for line in input_data:\n",
    "        mapped_data.extend(map_function(None, line))\n",
    "    \n",
    "    \n",
    "    grouped_data = {}\n",
    "    for key, value in mapped_data:\n",
    "        if key not in grouped_data:\n",
    "            grouped_data[key] = []\n",
    "        grouped_data[key].append(value)\n",
    "\n",
    "    reduced_data = {}\n",
    "    for key, values in grouped_data.items():\n",
    "        reduced_data[key] = list(reduce_function(key, values))\n",
    "    \n",
    "    return reduced_data\n",
    "\n",
    "# Contoh penggunaan\n",
    "with open(\"C:/Users/ASUS/Documents/dataset_sederhana.txt\", \"r\") as file:\n",
    "    data = file.readlines()\n",
    "print(code_jalan(data))\n"
   ]
  }
 ],
 "metadata": {
  "kernelspec": {
   "display_name": "base",
   "language": "python",
   "name": "python3"
  },
  "language_info": {
   "codemirror_mode": {
    "name": "ipython",
    "version": 3
   },
   "file_extension": ".py",
   "mimetype": "text/x-python",
   "name": "python",
   "nbconvert_exporter": "python",
   "pygments_lexer": "ipython3",
   "version": "3.11.4"
  }
 },
 "nbformat": 4,
 "nbformat_minor": 5
}
